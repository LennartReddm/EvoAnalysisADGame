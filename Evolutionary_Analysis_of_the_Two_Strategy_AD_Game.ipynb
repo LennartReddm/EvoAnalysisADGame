{
  "nbformat": 4,
  "nbformat_minor": 0,
  "metadata": {
    "colab": {
      "provenance": [],
      "toc_visible": true,
      "authorship_tag": "ABX9TyNZ2eWMoQFfT8f5OhD2yPwS",
      "include_colab_link": true
    },
    "kernelspec": {
      "name": "python3",
      "display_name": "Python 3"
    },
    "language_info": {
      "name": "python"
    }
  },
  "cells": [
    {
      "cell_type": "markdown",
      "metadata": {
        "id": "view-in-github",
        "colab_type": "text"
      },
      "source": [
        "<a href=\"https://colab.research.google.com/github/LennartReddm/EvoAnalysisADGame/blob/main/Evolutionary_Analysis_of_the_Two_Strategy_AD_Game.ipynb\" target=\"_parent\"><img src=\"https://colab.research.google.com/assets/colab-badge.svg\" alt=\"Open In Colab\"/></a>"
      ]
    },
    {
      "cell_type": "code",
      "metadata": {
        "id": "xQBcyHLA_WnR"
      },
      "source": [
        "# Used libraries\n",
        "import matplotlib.pyplot as plt\n",
        "%matplotlib inline\n",
        "import numpy as np\n",
        "from sympy import *\n",
        "import random"
      ],
      "execution_count": null,
      "outputs": []
    },
    {
      "cell_type": "markdown",
      "metadata": {
        "id": "nKowGcZL1fjP"
      },
      "source": [
        "### The game to solve - AD-Contest with two strategies"
      ]
    },
    {
      "cell_type": "markdown",
      "metadata": {
        "id": "1n9vxmUhshcj"
      },
      "source": [
        "We will try to solve the following Attacker-Defender Contest with two strategies (as can be found in De Dreu & Gross, 2019, see below) using both classical and evolutionary game theory:\n",
        "\n",
        "&nbsp;\n",
        "\n",
        "|    AD-Contest with two strategies |     |     |     |     |\n",
        "|-----------|-----------|-----------|-----------|-----------|\n",
        "|           |           |           |  Defender |           |\n",
        "|           |           |           |    q1     |     q2    |\n",
        "|           |           |Strategy   |     C     |     D     |\n",
        "| Attacker  |    p1     |        C  |   1 \\ 2   |   1 \\ 1   |\n",
        "|           |    p2     |        D  |   2 \\ 0   |   0 \\ 1   |\n",
        "\n",
        "&nbsp;\n",
        "\n",
        "Reference:\n",
        "\n",
        "De Dreu, C., & Gross, J. (2019). Revisiting the form and function of conflict: Neurobiological, psychological, and cultural mechanisms for attack and defense within and between groups. Behavioral and Brain Sciences, 42, E116. doi:10.1017/S0140525X18002170"
      ]
    },
    {
      "cell_type": "markdown",
      "metadata": {
        "id": "wDyinrHi0E2A"
      },
      "source": [
        "### Nash Equilibrium\n"
      ]
    },
    {
      "cell_type": "markdown",
      "metadata": {
        "id": "aLc5mfGI1b81"
      },
      "source": [
        "\n",
        "We easily see that there is no pure Nash equilibrium.\n",
        "\n",
        "To calculate the mixed strategy equilibrium, we consider that attackers are indifferent between C and D when:\n",
        "\n",
        "$E_{A}(C) = 1 * q1 + 1 * q2 = 1 * 0.5 + 1 * 0.5 = 1 $\n",
        "\n",
        "$E_{A}(D) = 2 * q1 + 0 * q2 = 2 * 0.5 + 0 * 0.5 = 1 $\n",
        "\n",
        "That is when defenders play a mix of (q1, q2) = (0.5, 0.5).\n",
        "\n",
        "Defenders are indifferent between C and D when:\n",
        "\n",
        "$E_{D}(C) = 2 * p1 + 0 * p2 = 2 * 0.5 + 0 * 0.5 = 1 $\n",
        "\n",
        "$E_{D}(D) = 1 * p1 + 1 * p2 = 1 * 0.5 + 1 * 0.5 = 1 $\n",
        "\n",
        "That is, when attackers play a mix of (p1, p2) = (0.5, 0.5).\n",
        "\n",
        "The mixed strategy quilibrium is therefore: \n",
        "\n",
        "$S_{mix} = ((p1, p2), (q1, q2)) = ((0.5, 0.5), (0.5, 0.5))$"
      ]
    },
    {
      "cell_type": "markdown",
      "metadata": {
        "id": "qvvi-cGL31aC"
      },
      "source": [
        "### Evolutionary Game Theory"
      ]
    },
    {
      "cell_type": "markdown",
      "metadata": {
        "id": "uB59VBmmGo-B"
      },
      "source": [
        "#### Building the replicator systems"
      ]
    },
    {
      "cell_type": "markdown",
      "source": [],
      "metadata": {
        "id": "KynJ86REgO87"
      }
    },
    {
      "cell_type": "markdown",
      "metadata": {
        "id": "hC_Ql7i56ENf"
      },
      "source": [
        "Let the average population state of the Attacker population be:\n",
        "\n",
        "$ \\sigma_{A} = p1 * C_{A} + p2 * D_{A} $ \n",
        "\n",
        "&nbsp;\n",
        "\n",
        "And the average population state of the Defender population is:\n",
        "\n",
        "$ \\tau_{D} = q1 * C_{D} + q2 * D_{D} $ \n",
        "\n",
        "&nbsp;\n",
        "\n",
        "Attackers randomly meet Defenders and play the game. \n",
        "\n",
        "\n",
        "---\n",
        "\n",
        "&nbsp;\n",
        "\n",
        "We note down the average population pay-off for the attacker and defender population.\n",
        "\n",
        "\n",
        "The expected average pay-off of the attacker population is:\n",
        "\n",
        "$ E_{A}(\\sigma_{A},\\tau_{D}) = p1 * (1∗q1+1∗q2) + p2 * (2 * q1 + 0 * q2) = q1*p1 + q2*p1 + 2*q1*p2   $\n",
        "\n",
        "&nbsp;\n",
        "\n",
        "The expected average pay-off of the defender population is:\n",
        "\n",
        "$ E_{D}(\\sigma_{A},\\tau_{D}) = q1 * (2 * p1 + 0 * p2) + q2 * (1 * p1 + 1 * p2) = 2 * q1 * p1 + q2 * p1 + q2 * p2 $\n",
        "\n",
        "&nbsp;\n",
        "\n",
        "---\n",
        "\n",
        "&nbsp;\n",
        "\n",
        "We note down the expected pay-off for attacker for playing D against the population mix of the defender:\n",
        "\n",
        " $ E_{A}(D_{A},\\tau_{D}) = 2 * q1 + 0 * q2 $\n",
        "\n",
        "\n",
        "&nbsp;\n",
        "\n",
        "We note down the expected pay-off for defender for playing D against the  population mix of the attacker:\n",
        "\n",
        "$ E_{D}(\\sigma_{A},D_{D}) = 1 * p1 + 1 * p2 $ \n",
        "\n",
        "\n",
        "&nbsp;\n",
        "\n",
        "---\n",
        "\n",
        "&nbsp;\n",
        "\n",
        "Therefore, the replicator systems are:\n",
        "\n",
        "$ \\dot{p2}  = ( E_{A}(D_{A},\\tau_{D}) - E_{A}(\\sigma_{A},\\tau_{D}) ) * p2 \n",
        "           = ( (2 * q1 + 0 * q2) - (q1 * p1 + q2 * p1 + 2 * q1 * p2)) * p2 $ \n",
        "\n",
        "&nbsp;\n",
        "\n",
        "$ \\dot{q2} = ( E_{D}(\\sigma_{A},D_{D}) - E_{D}(\\sigma_{A},\\tau_{D}) ) * q2 \n",
        "           = ( (1 * p1 + 1 * p2) - (2 * q1 * p1 + q2 * p1 + q2 * p2)) * q2 $ \n",
        "\n",
        "&nbsp;\n",
        "\n",
        "Where $ \\dot{p1} $ and $ \\dot{q1} $ are the growth rates of the share of the attacker and defender population playing D, respectively.\n"
      ]
    },
    {
      "cell_type": "code",
      "metadata": {
        "id": "dJrJkFeJM2NC",
        "colab": {
          "base_uri": "https://localhost:8080/"
        },
        "outputId": "e974cbb8-b9eb-466b-ed73-33c5d3dcb769"
      },
      "source": [
        "# We build the replicator systems programatically\n",
        "\n",
        "# Set symbols\n",
        "p1, p2, q1, q2 = symbols('p1, p2, q1, q2')\n",
        "\n",
        "# payoffs for Attacker\n",
        "CC_A = 1; CD_A = 1; DC_A = 2; DD_A = 0\n",
        "# payoffs for Defender\n",
        "CC_D = 2; CD_D = 1; DC_D = 0; DD_D = 1\n",
        "\n",
        "p1 = 1 - p2\n",
        "q1 = 1 - q2\n",
        "\n",
        "# Replicator systems\n",
        "p2_dot = ((q1 * DC_A + q2 * DD_A) - (p1 * (q1 * CC_A + q2 * CD_A) + p2 * (q1 * DC_A + q2 * DD_A))) * p2\n",
        "q2_dot = ((p1 * CD_D + p2 * DD_D) - (q1 * (p1 * CC_D + p2 * DC_D) + q2 * (p1 * CD_D + p2 * DD_D))) * q2\n",
        "\n",
        "print(p2_dot) \n",
        "print(q2_dot)"
      ],
      "execution_count": null,
      "outputs": [
        {
          "output_type": "stream",
          "name": "stdout",
          "text": [
            "p2*(-p2*(2 - 2*q2) + p2 - 2*q2 + 1)\n",
            "q2*(-q2 - (1 - q2)*(2 - 2*p2) + 1)\n"
          ]
        }
      ]
    },
    {
      "cell_type": "markdown",
      "metadata": {
        "id": "WklzJxu_Gv_g"
      },
      "source": [
        "#### Replicator systems - Simplifying the equation"
      ]
    },
    {
      "cell_type": "markdown",
      "metadata": {
        "id": "aPqPEF9fFp-l"
      },
      "source": [
        "We start with the replicator system for the attacker population:\n",
        "\n",
        "$ \\dot{p2}  = ( E_{A}(D_{A},\\tau_{D}) - E_{A}(\\sigma_{A},\\tau_{D}) ) * p2 \n",
        "           = ( (2 * q1 + 0 * q2) - (q1 * p1 + q2 * p1 + 2 * q1 * p2)) * p2 $ \n",
        "\n",
        "&nbsp;\n",
        "\n",
        "We substitute p1 = p2 - 1 and q1 = q2 - 1 and simplify the expression:\n",
        "\n",
        "$ \\dot{p2} = p2 * (p2 - 1) * (2q2 - 1) $ \n",
        "\n",
        "\n",
        "\n",
        "&nbsp;\n",
        "\n",
        "Now the replicator system for the defender population:\n",
        "\n",
        "$ \\dot{q2} = ( E_{D}(\\sigma_{A},C_{D}) - E_{A}(\\sigma_{A},\\tau_{D}) ) * q2 \n",
        "           = ( (2 * p1 + 0 * p2) - (2 * q1 * p1 + q2 * p1 + q2 * p2)) * q2 $ \n",
        "\n",
        "&nbsp;\n",
        "\n",
        "We substitute q1 = q2 - 1 and p1 = p2 - 1 and simplify the expression:\n",
        "\n",
        "$ \\dot{q2} = -q2 * (2p2 - 1) * (q2 - 1) $ "
      ]
    },
    {
      "cell_type": "code",
      "metadata": {
        "colab": {
          "base_uri": "https://localhost:8080/",
          "height": 38
        },
        "id": "3xQHDXqQMQyx",
        "outputId": "abe8c387-f8c1-4ba7-bab1-010f0580e853"
      },
      "source": [
        "# We use Sympy to check the simplification of the expressions\n",
        "simplify(p2_dot)  "
      ],
      "execution_count": null,
      "outputs": [
        {
          "output_type": "execute_result",
          "data": {
            "text/plain": [
              "p2*(2*p2*q2 - p2 - 2*q2 + 1)"
            ],
            "text/latex": "$\\displaystyle p_{2} \\left(2 p_{2} q_{2} - p_{2} - 2 q_{2} + 1\\right)$"
          },
          "metadata": {},
          "execution_count": 3
        }
      ]
    },
    {
      "cell_type": "code",
      "metadata": {
        "colab": {
          "base_uri": "https://localhost:8080/",
          "height": 38
        },
        "id": "ohKCxexD7sU5",
        "outputId": "a448b1df-2def-49e6-ccdf-c2042dcaf23d"
      },
      "source": [
        "# Factorize\n",
        "factor(p2_dot) "
      ],
      "execution_count": null,
      "outputs": [
        {
          "output_type": "execute_result",
          "data": {
            "text/plain": [
              "p2*(p2 - 1)*(2*q2 - 1)"
            ],
            "text/latex": "$\\displaystyle p_{2} \\left(p_{2} - 1\\right) \\left(2 q_{2} - 1\\right)$"
          },
          "metadata": {},
          "execution_count": 4
        }
      ]
    },
    {
      "cell_type": "code",
      "metadata": {
        "colab": {
          "base_uri": "https://localhost:8080/",
          "height": 38
        },
        "id": "RUOfbSlrMQBa",
        "outputId": "03ef24f5-bef6-4f08-b182-a43143d7d8ec"
      },
      "source": [
        "# We use Sympy to check the simplification of the expressions \n",
        "simplify(q2_dot)"
      ],
      "execution_count": null,
      "outputs": [
        {
          "output_type": "execute_result",
          "data": {
            "text/plain": [
              "q2*(-2*p2*q2 + 2*p2 + q2 - 1)"
            ],
            "text/latex": "$\\displaystyle q_{2} \\left(- 2 p_{2} q_{2} + 2 p_{2} + q_{2} - 1\\right)$"
          },
          "metadata": {},
          "execution_count": 5
        }
      ]
    },
    {
      "cell_type": "code",
      "metadata": {
        "colab": {
          "base_uri": "https://localhost:8080/",
          "height": 38
        },
        "id": "PmZU8wtx7vcu",
        "outputId": "6f0f7997-2235-4195-88a7-cae8fce416c0"
      },
      "source": [
        "# Factorize\n",
        "factor(q2_dot)"
      ],
      "execution_count": null,
      "outputs": [
        {
          "output_type": "execute_result",
          "data": {
            "text/plain": [
              "-q2*(2*p2 - 1)*(q2 - 1)"
            ],
            "text/latex": "$\\displaystyle - q_{2} \\left(2 p_{2} - 1\\right) \\left(q_{2} - 1\\right)$"
          },
          "metadata": {},
          "execution_count": 6
        }
      ]
    },
    {
      "cell_type": "markdown",
      "metadata": {
        "id": "zO2p2ghg-ink"
      },
      "source": [
        "#### Finding the stable states of the system"
      ]
    },
    {
      "cell_type": "markdown",
      "metadata": {
        "id": "hRJsLR5t6iP5"
      },
      "source": [
        "We therefore have the interdependent growth rates for the attacker and defender population described by the following system of equations:\n",
        "\n",
        "$ \\dot{p2} = p2 * (p2 - 1) * (2q2 - 1) $ \n",
        "\n",
        "$ \\dot{q2} = -q2 * (2p2 - 1) * (q2 - 1) $ "
      ]
    },
    {
      "cell_type": "markdown",
      "metadata": {
        "id": "PDNCtmcw-p6a"
      },
      "source": [
        "\n",
        "To find the equilibria of the replicator system, we solve simultaneously the pair of equations $ \\dot{p2} = 0 $ and $ \\dot{q2} = 0 $. We find that the equilibria are (p2, q2) = (0, 0), (0, 1), (1/2, 1/2), (1, 0) and (1, 1). Note that these equilibria are stable states but are not necessarily evolutionary stable (i.e., they are not asymptotically stable). That is, if the attacker or defender population start on or converge to any of these population states, there will be no further evolutionary drift - however, these states are vulnerable of being invaded by mutants."
      ]
    },
    {
      "cell_type": "code",
      "metadata": {
        "colab": {
          "base_uri": "https://localhost:8080/"
        },
        "id": "MLMswkiu_2Bb",
        "outputId": "9ec71a61-1e94-408b-f3c1-d59e7c459cab"
      },
      "source": [
        "# Check using sympy\n",
        "p1, p2, q1, q2 = symbols('p1, p2, q1, q2')\n",
        "\n",
        "p2_dot = (p2 - 1) * (2 * q2 - 1) * p2\n",
        "q2_dot = (q2 - 1) * (2 * p2 - 1) * -q2\n",
        "\n",
        "# use sympy's way of setting equations to zero\n",
        "AEqual = Eq(p2_dot, 0)\n",
        "BEqual = Eq(q2_dot, 0)\n",
        "# compute fixed points\n",
        "equilibria = solve([AEqual, BEqual], [p2, q2])\n",
        "print(equilibria)"
      ],
      "execution_count": null,
      "outputs": [
        {
          "output_type": "stream",
          "name": "stdout",
          "text": [
            "[(0, 0), (0, 1), (1/2, 1/2), (1, 0), (1, 1)]\n"
          ]
        }
      ]
    },
    {
      "cell_type": "markdown",
      "metadata": {
        "id": "7OsbNnm7-zKs"
      },
      "source": [
        "#### Finding the nullclines"
      ]
    },
    {
      "cell_type": "markdown",
      "metadata": {
        "id": "h75eb5Ad-vFQ"
      },
      "source": [
        "Now, we find the nullclines, that is line(s) on which there is no change in the share of the attacker population playing D ($ \\dot{p2} = 0 $), and line(s) in which there is no change in the share of the defender population playing D ($ \\dot{q2} = 0 $). \n"
      ]
    },
    {
      "cell_type": "markdown",
      "metadata": {
        "id": "w5QxEU1ZAwWK"
      },
      "source": [
        "We have an growth rate $ \\dot{p2} = 0 $ when p2 = 0, p2 = 1, or q2 = 1/2, and a growth rate of $ \\dot{q2} = 0 $ when q2 = 0, q2 = 1 and p2 = 1/2."
      ]
    },
    {
      "cell_type": "markdown",
      "metadata": {
        "id": "kQA3g_Yf-86S"
      },
      "source": [
        "The nullclines divide the phase potrait into open regions on which  p1˙  and  q1˙  do not change signs. In other words, the nullclines help us to divide the function space of the replicator system such that we can determine the direction of the evolutionary drift of the system in these areas. We can find the direction of  p2  and  q2  by checking one point in that region. Note that the intesection points of the nullclines are the stable states found by solving the system at p_dot = q_dot = 0."
      ]
    },
    {
      "cell_type": "code",
      "metadata": {
        "colab": {
          "base_uri": "https://localhost:8080/",
          "height": 621
        },
        "id": "JhWAc26P_K2D",
        "outputId": "53baadba-e944-469a-e7fe-7094e7886e22"
      },
      "source": [
        "# We plot a vector field including the nullclines\n",
        "\n",
        "fig = plt.figure(figsize=(10,10))  \n",
        "ax1 = fig.add_subplot(1,1, 1)\n",
        "ax1.set_xlabel(\"p2 - Share of the attacker population playing attack (strategy D)\")\n",
        "ax1.set_ylabel(\"q2 - Share of the defender population playing defence (strategy D)\")  \n",
        "ax1.set_title(\"Vector field for Attacker-Defender Game\")\n",
        "\n",
        "# plot nullclines for p2\n",
        "ax1.plot([0,1],[.5,.5], 'r-', lw=2, label='p2-nullcline')\n",
        "ax1.plot([0,0],[0,1], 'r-', lw=2)\n",
        "ax1.plot([1,1],[0,1], 'r-', lw=2)\n",
        "\n",
        "# plot nullclines for q2\n",
        "ax1.plot([.5,.5], [0,1], 'b-', lw=2, label='q2-nullcline')\n",
        "ax1.plot([0,1], [0,0], 'b-', lw=2)\n",
        "ax1.plot([0,1], [1,1], 'b-', lw=2)\n",
        "\n",
        "ax1.legend(loc='upper right')\n",
        "ax1.grid()"
      ],
      "execution_count": null,
      "outputs": [
        {
          "output_type": "display_data",
          "data": {
            "text/plain": [
              "<Figure size 720x720 with 1 Axes>"
            ],
            "image/png": "[encoded data removed]"
          },
          "metadata": {
            "needs_background": "light"
          }
        }
      ]
    },
    {
      "cell_type": "markdown",
      "metadata": {
        "id": "Yh4pfI0sOGDY"
      },
      "source": [
        "#### Finding and plotting direction vectors"
      ]
    },
    {
      "cell_type": "markdown",
      "source": [
        "To get an idea on the directions of evolutionary drift of the attacker and defender population in our system, we check solutions for each line segment between stable states as well as for the regions created by the nullclines."
      ],
      "metadata": {
        "id": "cMU-YECB1Ktd"
      }
    },
    {
      "cell_type": "code",
      "metadata": {
        "colab": {
          "base_uri": "https://localhost:8080/"
        },
        "id": "I87KImQ96sWx",
        "outputId": "9eccda06-2e92-4bc2-cb08-6902aa32c455"
      },
      "source": [
        "\n",
        "# Line segments and regions between the stable states:\n",
        "# (0, 0), (0, 1), (1/2, 1/2), (1, 0), (1, 1)\n",
        "\n",
        "# Line segments\n",
        "# (0, 0), (0, 1/2) -> (0, .25)\n",
        "# (0, 1/2), (0, 1) -> (0, .75)\n",
        "# (0, 0), (1/2, 0) -> (.25, 0)\n",
        "# (1/2, 0), (1, 0) -> (.75, 0)\n",
        "\n",
        "# (1, 1), (1, 1/2) -> (1, .75)\n",
        "# (1, 1/2), (1, 0) -> (1, .25)\n",
        "# (1, 1), (1/2, 1) -> (.75, 1)\n",
        "# (1/2, 1), (0, 1) -> (.25, 1)\n",
        "\n",
        "# (1, 1/2)(1/2, 1/2) -> (.75, 1/2)\n",
        "# (1/2, 1/2)(0, 1/2) -> (.25, 1/2)\n",
        "\n",
        "# (1/2, 1)(1/2, 1/2) -> (1/2, .75)\n",
        "# (1/2, 1/2)(1/2, 0) -> (1/2, .25)\n",
        "\n",
        "# Regions\n",
        "# (.25, .25)\n",
        "# (.75, .75)\n",
        "# (.25, .75)\n",
        "# (.75, .25)\n",
        "\n",
        "# Thus, these are the points to check:\n",
        "pointsToCheck = [(0, .25),(0, .75), (.25, 0), (.75, 0), \n",
        "                 (1, .75), (1, .25), (.75, 1), (.25, 1), \n",
        "                 (.75, 1/2), (.25, 1/2), (1/2, .75), (1/2, .25), \n",
        "                 (.25, .25), (.75, .75), (.25, .75), (.75, .25)]\n",
        "\n",
        "# We calculate solutions for each point:\n",
        "solutionsByPointString = []\n",
        "solutionsByPoint = []\n",
        "for i in pointsToCheck:\n",
        "\n",
        "  # p1_dot = (1 - p1) * (-1 + 2*q1) * p1  \n",
        "  # q1_dot = (1 - q1) * (1 - 2*p1) * q1 \n",
        "\n",
        "  # p2_dot = (p2 - 1) * (2 * q2 - 1) * p2\n",
        "  # q2_dot = (q2 - 1) * (2 * p2 - 1) * -q2\n",
        "\n",
        "  p2_dot = (i[0] - 1) * (2 * i[1] - 1) * i[0]\n",
        "  q2_dot = (i[1] - 1) * (2 * i[0] - 1) * -i[1]\n",
        "\n",
        "  solution = (i, (p2_dot, q2_dot))\n",
        "  solutionString = \"For point (p1, q1) = {} the growth rate (p1_dot, q1_dot) is {}\".format(i, (p2_dot, q2_dot))\n",
        "  solutionsByPoint.append(solution)\n",
        "  solutionsByPointString.append(solutionString)\n",
        "\n",
        "solutionsByPointString"
      ],
      "execution_count": null,
      "outputs": [
        {
          "output_type": "execute_result",
          "data": {
            "text/plain": [
              "['For point (p1, q1) = (0, 0.25) the growth rate (p1_dot, q1_dot) is (0.0, -0.1875)',\n",
              " 'For point (p1, q1) = (0, 0.75) the growth rate (p1_dot, q1_dot) is (-0.0, -0.1875)',\n",
              " 'For point (p1, q1) = (0.25, 0) the growth rate (p1_dot, q1_dot) is (0.1875, 0.0)',\n",
              " 'For point (p1, q1) = (0.75, 0) the growth rate (p1_dot, q1_dot) is (0.1875, -0.0)',\n",
              " 'For point (p1, q1) = (1, 0.75) the growth rate (p1_dot, q1_dot) is (0.0, 0.1875)',\n",
              " 'For point (p1, q1) = (1, 0.25) the growth rate (p1_dot, q1_dot) is (-0.0, 0.1875)',\n",
              " 'For point (p1, q1) = (0.75, 1) the growth rate (p1_dot, q1_dot) is (-0.1875, -0.0)',\n",
              " 'For point (p1, q1) = (0.25, 1) the growth rate (p1_dot, q1_dot) is (-0.1875, 0.0)',\n",
              " 'For point (p1, q1) = (0.75, 0.5) the growth rate (p1_dot, q1_dot) is (-0.0, 0.125)',\n",
              " 'For point (p1, q1) = (0.25, 0.5) the growth rate (p1_dot, q1_dot) is (-0.0, -0.125)',\n",
              " 'For point (p1, q1) = (0.5, 0.75) the growth rate (p1_dot, q1_dot) is (-0.125, 0.0)',\n",
              " 'For point (p1, q1) = (0.5, 0.25) the growth rate (p1_dot, q1_dot) is (0.125, 0.0)',\n",
              " 'For point (p1, q1) = (0.25, 0.25) the growth rate (p1_dot, q1_dot) is (0.09375, -0.09375)',\n",
              " 'For point (p1, q1) = (0.75, 0.75) the growth rate (p1_dot, q1_dot) is (-0.09375, 0.09375)',\n",
              " 'For point (p1, q1) = (0.25, 0.75) the growth rate (p1_dot, q1_dot) is (-0.09375, -0.09375)',\n",
              " 'For point (p1, q1) = (0.75, 0.25) the growth rate (p1_dot, q1_dot) is (0.09375, 0.09375)']"
            ]
          },
          "metadata": {},
          "execution_count": 9
        }
      ]
    },
    {
      "cell_type": "markdown",
      "source": [
        "Based on the solutions, we plot direction vectors onto the vector field:"
      ],
      "metadata": {
        "id": "MoLnMiw780_H"
      }
    },
    {
      "cell_type": "code",
      "metadata": {
        "colab": {
          "base_uri": "https://localhost:8080/",
          "height": 621
        },
        "id": "-RWee1d-Qcu7",
        "outputId": "08e5dd71-360d-49ef-c219-0af1187384de"
      },
      "source": [
        "fig = plt.figure(figsize=(10,10))  \n",
        "ax1 = fig.add_subplot(1,1, 1)\n",
        "ax1.set_xlabel(\"p1 - Share of the attacker population playing attack (strategy D)\")\n",
        "ax1.set_ylabel(\"q1 - Share of the defender population playing defence (strategy D)\")  \n",
        "ax1.set_title(\"Vector field for Attacker-Defender Game\")\n",
        "\n",
        "# plot nullclines for p1\n",
        "ax1.plot([0,1],[.5,.5], 'r-', lw=2, label='p1-nullcline')\n",
        "ax1.plot([0,0],[0,1], 'r-', lw=2)\n",
        "ax1.plot([1,1],[0,1], 'r-', lw=2)\n",
        "\n",
        "# plot nullclines for p2\n",
        "ax1.plot([.5,.5], [0,1], 'b-', lw=2, label='q1-nullcline')\n",
        "ax1.plot([0,1], [0,0], 'b-', lw=2)\n",
        "ax1.plot([0,1], [1,1], 'b-', lw=2)\n",
        "\n",
        "# plot vectors\n",
        "for i in solutionsByPoint:\n",
        "  ax1.quiver(i[0][0], i[0][1], i[1][0], i[1][1], width = 0.006)\n",
        "\n",
        "ax1.legend(loc='upper right')\n",
        "ax1.grid()"
      ],
      "execution_count": null,
      "outputs": [
        {
          "output_type": "display_data",
          "data": {
            "text/plain": [
              "<Figure size 720x720 with 1 Axes>"
            ],
            "image/png": "[encoded data removed]"
          },
          "metadata": {
            "needs_background": "light"
          }
        }
      ]
    },
    {
      "cell_type": "markdown",
      "source": [
        "The vectors on the vector field seem to indicate a decrease in the share of defenders playing defence (Defender strategy D) as long as the share of the attacker population playing attack (Attacker strategy D) is below 0.5. On the other hand, if the share of attackers playing attack increases over 0.5, the defender population playing D increases again.\n",
        "\n",
        "Likewise, the share of attackers playing attack seems to increase as the share of the defender population playing defence drops below 0.5 but decreases when the share of the defender population playing defence exceeds 0.5.\n",
        "\n",
        "Intuitively this makes sense: Attack is a evolutionary viable strategy if the majority of the defender population is peaceful (Defender strategy C, i.e., defenders do not invests in defence), leading to a growth in the population of aggressive attackers. But attack becomes to costly if the majority of the defender population is made up of active defenders. Defenders, on the other hand, adapt to an aggressive attacker population by more frequently playing (costly) defence. However, as attackers become more peaceful again, defence stops paying off, leading to a decrease in defenders playing defence."
      ],
      "metadata": {
        "id": "Edtqq91NAX8W"
      }
    },
    {
      "cell_type": "markdown",
      "metadata": {
        "id": "2fYCLr4zF4Lh"
      },
      "source": [
        "#### Finding the eigenvalues"
      ]
    },
    {
      "cell_type": "markdown",
      "source": [
        "While the vector analysis above seems to indicate a circular pattern of dependently rising and declining attacker and defender populations, we can't be completely sure about the nature of our equilibria. While the equlibria are stable at the exact points, small exogenous perpetuation (e.g., a random mutation) might lead to deviation from the stable state. Is any of our equilibria evolutionary stable? Or (as the vector plot indicates) are they unstable \"saddles\" leading to a circular pattern?\n",
        "\n",
        "To check this, we need to find the eigenvalues of our system of equations. Since we have a non-linear system of differential equations, however, we cannot calculate the eigenvalues directly. Instead we linearize the system by calculating the Jacobinian Matrix of the system. We then evaluate the Jacobinian at each equilibria point, giving us the linear system at that point. Based on that, we calculate the eigenvalues to determine the behavior at the equilibrium."
      ],
      "metadata": {
        "id": "LrzWA31Ifc1H"
      }
    },
    {
      "cell_type": "code",
      "metadata": {
        "colab": {
          "base_uri": "https://localhost:8080/",
          "height": 58
        },
        "id": "Awf8qSa3G7wX",
        "outputId": "0bf7de0e-560d-4354-9ac2-fcf6c05a9114"
      },
      "source": [
        "# We write the replictor system in sympy\n",
        "p2, q2 = symbols('p2, q2', negative=False)\n",
        "\n",
        "p2_dot = (p2 - 1) * (2 * q2 - 1) * p2\n",
        "q2_dot = (q2 - 1) * (2 * p2 - 1) * -q2\n",
        "\n",
        "# We put the equations into matrix-form and compute the Jacobian-matrix \n",
        "eqMat = Matrix([ p2_dot, q2_dot ])\n",
        "Mat = Matrix([ p2, q2 ])\n",
        "jacMat = eqMat.jacobian(Mat)\n",
        "\n",
        "jacMat"
      ],
      "execution_count": null,
      "outputs": [
        {
          "output_type": "execute_result",
          "data": {
            "text/plain": [
              "Matrix([\n",
              "[p2*(2*q2 - 1) + (p2 - 1)*(2*q2 - 1),                        2*p2*(p2 - 1)],\n",
              "[                     -2*q2*(q2 - 1), -q2*(2*p2 - 1) + (1 - q2)*(2*p2 - 1)]])"
            ],
            "text/latex": "$\\displaystyle \\left[\\begin{matrix}p_{2} \\left(2 q_{2} - 1\\right) + \\left(p_{2} - 1\\right) \\left(2 q_{2} - 1\\right) & 2 p_{2} \\left(p_{2} - 1\\right)\\\\- 2 q_{2} \\left(q_{2} - 1\\right) & - q_{2} \\left(2 p_{2} - 1\\right) + \\left(1 - q_{2}\\right) \\left(2 p_{2} - 1\\right)\\end{matrix}\\right]$"
          },
          "metadata": {},
          "execution_count": 11
        }
      ]
    },
    {
      "cell_type": "code",
      "metadata": {
        "colab": {
          "base_uri": "https://localhost:8080/"
        },
        "id": "5l4r3aXpIkE0",
        "outputId": "40e848a7-f256-4bf5-f710-83ab9d2bba13"
      },
      "source": [
        "# We (again) compute the stable states here\n",
        "AEqual = Eq(p2_dot, 0)\n",
        "BEqual = Eq(q2_dot, 0)\n",
        "# compute fixed points\n",
        "equilibria = solve([AEqual, BEqual], [p2, q2])\n",
        "\n",
        "# then we iterate through the list of equilibria and calculate the eigenvalues\n",
        "for item in equilibria:\n",
        "    eqmat = jacMat.subs([ (p2, item[0]), (q2, item[1]) ])\n",
        "    print(u'The eigenvalues for the fixed point ({0}, {1}) are λ\\u2081,\\u2082=({2}, {3}).'.format(\n",
        "\n",
        "        item[0], \n",
        "        item[1], \n",
        "        list(eqmat.eigenvals().keys())[0], \n",
        "        list(eqmat.eigenvals().keys())[1]))"
      ],
      "execution_count": null,
      "outputs": [
        {
          "output_type": "stream",
          "name": "stdout",
          "text": [
            "The eigenvalues for the fixed point (0, 0) are λ₁,₂=(1, -1).\n",
            "The eigenvalues for the fixed point (0, 1) are λ₁,₂=(-1, 1).\n",
            "The eigenvalues for the fixed point (1/2, 1/2) are λ₁,₂=(-I/2, I/2).\n",
            "The eigenvalues for the fixed point (1, 0) are λ₁,₂=(-1, 1).\n",
            "The eigenvalues for the fixed point (1, 1) are λ₁,₂=(1, -1).\n"
          ]
        }
      ]
    },
    {
      "cell_type": "markdown",
      "source": [
        "The eigenvalues for the stable states (0, 0), (0, 1), (1, 0), and (1, 1) are λ<sub>1</sub> > 0, λ<sub>2</sub> < 0 or vice versa, implying indeed that these points are (unstable) saddle points. \n",
        "\n",
        "The eigenvalues for the stable state (0.5, 0.5) are complex numbers with a real part a=0, indicating a neutrally stable center point. The imaginary part implies oscillation of the populations around the center point and the real parts of 0 suggest that they neither spiral towards or away from the center but instead follow a closed orbit.\n",
        "\n",
        "The eigenvector analysis of the equlibria therefore seems to confirm our prior analysis. None of our equlibria is stable. Instead, the shares of attacker and defender populations choosing conflictual (vs peaceful) strategies rise and decline dependent on the other, leading to a perpetual circular pattern."
      ],
      "metadata": {
        "id": "QI4AlC27TiIQ"
      }
    },
    {
      "cell_type": "markdown",
      "metadata": {
        "id": "qOWYEMWIK2fx"
      },
      "source": [
        "#### Simulation"
      ]
    },
    {
      "cell_type": "code",
      "metadata": {
        "colab": {
          "base_uri": "https://localhost:8080/",
          "height": 646
        },
        "id": "rPH6gzKDuHAL",
        "outputId": "24cef06f-9673-4aba-a0bb-e55d567f2e4c"
      },
      "source": [
        "# Simulation\n",
        "\n",
        "# Set initial population shares\n",
        "p1 = [0.5]         # probability of playing C for attackers\n",
        "p2 = [1 - p1[0]]   # probability of playing D for attackers\n",
        "\n",
        "q1 = [0.5]         # probability of playing C for defenders\n",
        "q2 = [1 - q1[0]]   # probability of playing D for defenders\n",
        "\n",
        "for t in range(300):\n",
        "\n",
        "    if p2[t] >= 1:\n",
        "      p2[t] = 1\n",
        "      randAtt = random.uniform(-0.0001, 0.000)\n",
        "    elif p2[t] <= 0:\n",
        "      p2[t] = 0\n",
        "      randAtt = random.uniform(0.0001, 0.0001)\n",
        "    else:\n",
        "      randAtt = random.uniform(-0.0001, 0.0001)\n",
        "\n",
        "    if q2[t] >= 1:\n",
        "      q2[t] = 1\n",
        "      randDef = random.uniform(-0.0001, 0.000)\n",
        "    elif q2[t] <= 0:\n",
        "      q2[t] = 0\n",
        "      randDef = random.uniform(0.000, 0.0001)\n",
        "    else:\n",
        "      randDef = random.uniform(-0.0001, 0.0001)\n",
        "\n",
        "    # Activate/Deactivate the random effect\n",
        "    # randAtt = 0\n",
        "    # randDef = 0\n",
        "\n",
        "    # Formula for replicator system\n",
        "    # Population state at t plus growth rate plus random effect.\n",
        "    attackerpop = p2[t] + ((p2[t] - 1) * (2 * q2[t] - 1) * p2[t]) + randAtt\n",
        "    defenderpop = q2[t] + ((2 * p2[t] - 1) * (q2[t] - 1) * -q2[t]) + randDef\n",
        "\n",
        "    p2.append(attackerpop)\n",
        "    q2.append(defenderpop)\n",
        "\n",
        "# Print population states\n",
        "# print(p1, p2)\n",
        "# print(q1, q2)\n",
        "\n",
        "# Plot population states\n",
        "plt.rcParams[\"figure.figsize\"] = (18,12)\n",
        "plt.plot(p2, 'r', label ='Share of Attackers playing attack (D)')\n",
        "plt.plot(q2, 'b', label ='Share of Defenders playing defence (D)')\n",
        "\n",
        "plt.grid()\n",
        "plt.ylim(0, 1)\n",
        "plt.legend(loc='best')"
      ],
      "execution_count": null,
      "outputs": [
        {
          "output_type": "execute_result",
          "data": {
            "text/plain": [
              "<matplotlib.legend.Legend at 0x7f8f0cc97f10>"
            ]
          },
          "metadata": {},
          "execution_count": 7
        },
        {
          "output_type": "display_data",
          "data": {
            "text/plain": [
              "<Figure size 1296x864 with 1 Axes>"
            ],
            "image/png": "[encoded data removed]"
          },
          "metadata": {
            "needs_background": "light"
          }
        }
      ]
    }
  ]
}